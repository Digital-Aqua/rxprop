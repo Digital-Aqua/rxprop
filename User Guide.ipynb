{
 "cells": [
  {
   "cell_type": "code",
   "execution_count": 1,
   "metadata": {},
   "outputs": [],
   "source": [
    "import os, sys\n",
    "sys.path.append(os.path.abspath(\"./Source\"))"
   ]
  },
  {
   "cell_type": "markdown",
   "metadata": {},
   "source": [
    "# Interactive User Guide\n",
    "\n",
    "`rxprop` is all about creating reactive properties.\n",
    "\n",
    "Reactive properties are properties that notify anyone who's interested whenever they change.\n",
    "\n",
    "You make these properties using *decorators*, the same way you make ordinary class properties in Python.\n",
    "\n",
    "There are two kinds of reactive properties: **value properties** and **computed properties**.\n",
    "\n",
    "- **Value property**: A reactive property that stores a value. You can get it or set it just like an ordinary property, and it will notify watchers whenever you set it.\n",
    "\n",
    "- **Computed property**: A reactive property that computes a result. It will watch for changes that would affect its value, and notify watchers when the result changes."
   ]
  },
  {
   "cell_type": "markdown",
   "metadata": {},
   "source": [
    "## Value Properties\n",
    "\n",
    "A value property is a reactive property that simply stores a value.\n",
    "\n",
    "You can get or set it just like an ordinary property, and it will notify watchers whenever it is set to a new value.\n",
    "\n",
    "You create a value property using the `rx_value` decorator:"
   ]
  },
  {
   "cell_type": "code",
   "execution_count": 2,
   "metadata": {},
   "outputs": [],
   "source": [
    "import rxprop as rx\n",
    "\n",
    "class MyClass:\n",
    "    \n",
    "    @rx.value\n",
    "    def my_value(self) -> int:\n",
    "        return 0"
   ]
  },
  {
   "cell_type": "markdown",
   "metadata": {},
   "source": [
    "In this example, `my_value` is a reactive value.\n",
    "\n",
    "Unlike an ordinary Python `@property` which decorates a getter method, our `@rx.rx_value` decorates the default (initial) value of the property.\n",
    "\n",
    "So if we get the value, we will get this initial value (zero):"
   ]
  },
  {
   "cell_type": "code",
   "execution_count": 3,
   "metadata": {},
   "outputs": [
    {
     "name": "stdout",
     "output_type": "stream",
     "text": [
      "my_value = 0\n"
     ]
    }
   ],
   "source": [
    "a = MyClass()\n",
    "print(\"my_value =\", a.my_value)"
   ]
  },
  {
   "cell_type": "markdown",
   "metadata": {},
   "source": [
    "We can change the value like an ordinary property:"
   ]
  },
  {
   "cell_type": "code",
   "execution_count": 4,
   "metadata": {},
   "outputs": [
    {
     "name": "stdout",
     "output_type": "stream",
     "text": [
      "my_value = 1\n"
     ]
    }
   ],
   "source": [
    "a.my_value = 1\n",
    "print(\"my_value =\", a.my_value)"
   ]
  },
  {
   "cell_type": "markdown",
   "metadata": {},
   "source": [
    "Now the magic part: we can watch for changes to the value using the `watch` function.\n",
    "\n",
    "This function returns an async iterator that yields the value whenever it changes. So we need to make a small `consumer` method to process the notifications."
   ]
  },
  {
   "cell_type": "code",
   "execution_count": 5,
   "metadata": {},
   "outputs": [
    {
     "name": "stdout",
     "output_type": "stream",
     "text": [
      "Value notification! my_value = 1\n",
      "Value notification! my_value = 2\n"
     ]
    }
   ],
   "source": [
    "from asyncio import create_task, sleep\n",
    "\n",
    "async def consumer():\n",
    "    async for i in rx.watchp(a, MyClass.my_value):\n",
    "        print(\"Value notification! my_value =\", str(i))\n",
    "\n",
    "consumer_task = create_task(consumer())\n",
    "await sleep(0) # let the consumer start\n",
    "\n",
    "a.my_value = 2\n",
    "await sleep(0) # let the consumer catch the notification"
   ]
  },
  {
   "cell_type": "markdown",
   "metadata": {},
   "source": [
    "We get two notifications. The first is the current value, which gets sent to the watcher as soon as it starts watching. The second is the new value we set.\n",
    "\n",
    "Note that notifications only happen *once at the start*, then whenever the value *changes*. So if we set the value to 2 again, the watcher won't be notified."
   ]
  },
  {
   "cell_type": "code",
   "execution_count": 6,
   "metadata": {},
   "outputs": [],
   "source": [
    "a.my_value = 2\n",
    "await sleep(0)"
   ]
  },
  {
   "cell_type": "markdown",
   "metadata": {},
   "source": [
    "(We should clean up our consumer ready for the next section.)"
   ]
  },
  {
   "cell_type": "code",
   "execution_count": 7,
   "metadata": {},
   "outputs": [
    {
     "data": {
      "text/plain": [
       "True"
      ]
     },
     "execution_count": 7,
     "metadata": {},
     "output_type": "execute_result"
    }
   ],
   "source": [
    "consumer_task.cancel()"
   ]
  },
  {
   "cell_type": "markdown",
   "metadata": {},
   "source": [
    "## Computed Properties\n",
    "\n",
    "A computed property is a reactive property that computes a result.\n",
    "\n",
    "It notifies watchers when that result changes."
   ]
  },
  {
   "cell_type": "code",
   "execution_count": 8,
   "metadata": {},
   "outputs": [],
   "source": [
    "import rxprop as rx\n",
    "\n",
    "class MyClass:\n",
    "    \n",
    "    @rx.value\n",
    "    def my_value(self) -> int:\n",
    "        return 0\n",
    "    \n",
    "    @rx.computed\n",
    "    def my_computed(self) -> int:\n",
    "        return self.my_value * 2"
   ]
  },
  {
   "cell_type": "markdown",
   "metadata": {},
   "source": [
    "Here, we've taken our class from before and added a second property, a computed property.\n",
    "\n",
    "The `@rx_computed` decorator *does* go onto a getter function, like `@property`, and unlike `@rx_value`.\n",
    "\n",
    "We can get its value, like a normal property."
   ]
  },
  {
   "cell_type": "code",
   "execution_count": 9,
   "metadata": {},
   "outputs": [
    {
     "name": "stdout",
     "output_type": "stream",
     "text": [
      "a.my_value = 0\n",
      "a.my_computed = 0\n"
     ]
    }
   ],
   "source": [
    "a = MyClass()\n",
    "print(\"a.my_value =\", a.my_value)\n",
    "print(\"a.my_computed =\", a.my_computed)"
   ]
  },
  {
   "cell_type": "markdown",
   "metadata": {},
   "source": [
    "But we can't set its value, since it has no setter."
   ]
  },
  {
   "cell_type": "code",
   "execution_count": 10,
   "metadata": {},
   "outputs": [],
   "source": [
    "try:\n",
    "    a.my_computed = 1\n",
    "except Exception as e:\n",
    "    print(\"Oops!\", e)"
   ]
  },
  {
   "cell_type": "markdown",
   "metadata": {},
   "source": [
    "As any property with a getter would do, `my_computed` reflects changes to `my_value` when we actively ask it."
   ]
  },
  {
   "cell_type": "code",
   "execution_count": 11,
   "metadata": {},
   "outputs": [
    {
     "name": "stdout",
     "output_type": "stream",
     "text": [
      "a.my_value = 2\n",
      "a.my_computed = 4\n"
     ]
    }
   ],
   "source": [
    "a.my_value = 2\n",
    "print(\"a.my_value =\", a.my_value)\n",
    "print(\"a.my_computed =\", a.my_computed)"
   ]
  },
  {
   "cell_type": "markdown",
   "metadata": {},
   "source": [
    "But what about notifications? An ordinary `@property` wouldn't pass those through. That's what makes `my_computed` special.\n",
    "\n",
    "When it computes a value, the `@rx.computed` property also keeps a look out for **dependencies**: other reactive properties that might send change notifications. It watches these dependencies for changes, and then notifies its own watchers in turn."
   ]
  },
  {
   "cell_type": "code",
   "execution_count": 12,
   "metadata": {},
   "outputs": [
    {
     "name": "stdout",
     "output_type": "stream",
     "text": [
      "Computed notification! my_computed = 4\n",
      "Computed notification! my_computed = 6\n"
     ]
    }
   ],
   "source": [
    "from asyncio import create_task, sleep\n",
    "\n",
    "async def consumer():\n",
    "    async for i in rx.watchp(a, MyClass.my_computed):\n",
    "        print(\"Computed notification! my_computed =\", str(i))\n",
    "\n",
    "consumer_task = create_task(consumer())\n",
    "await sleep(0.1) # let the consumer start\n",
    "\n",
    "a.my_value = 3\n",
    "await sleep(0.1) # let the consumer catch the notification"
   ]
  },
  {
   "cell_type": "markdown",
   "metadata": {},
   "source": [
    "As in the example with `@rx.rx_value`, we get two notifications: one with the *current value*, and one with the new value after we changed `my_value`."
   ]
  },
  {
   "cell_type": "markdown",
   "metadata": {},
   "source": [
    "(Cleanup time!)"
   ]
  },
  {
   "cell_type": "code",
   "execution_count": 13,
   "metadata": {},
   "outputs": [
    {
     "data": {
      "text/plain": [
       "True"
      ]
     },
     "execution_count": 13,
     "metadata": {},
     "output_type": "execute_result"
    }
   ],
   "source": [
    "consumer_task.cancel()"
   ]
  },
  {
   "cell_type": "code",
   "execution_count": null,
   "metadata": {},
   "outputs": [],
   "source": []
  }
 ],
 "metadata": {
  "kernelspec": {
   "display_name": ".venv",
   "language": "python",
   "name": "python3"
  },
  "language_info": {
   "codemirror_mode": {
    "name": "ipython",
    "version": 3
   },
   "file_extension": ".py",
   "mimetype": "text/x-python",
   "name": "python",
   "nbconvert_exporter": "python",
   "pygments_lexer": "ipython3",
   "version": "3.11.2"
  }
 },
 "nbformat": 4,
 "nbformat_minor": 2
}
