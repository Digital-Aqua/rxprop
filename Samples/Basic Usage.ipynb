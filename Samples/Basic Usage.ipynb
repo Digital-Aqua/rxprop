{
 "cells": [
  {
   "cell_type": "code",
   "execution_count": 1,
   "metadata": {},
   "outputs": [],
   "source": [
    "import os, sys\n",
    "sys.path.append(os.path.abspath(\"../Source\"))"
   ]
  },
  {
   "cell_type": "markdown",
   "metadata": {},
   "source": [
    "# Interactive User Guide\n",
    "\n",
    "The main use of `rxprop` is to create reactive properties:\n",
    "properties that automatically update when their dependencies change."
   ]
  },
  {
   "cell_type": "code",
   "execution_count": 2,
   "metadata": {},
   "outputs": [],
   "source": [
    "import rxprop as rx\n",
    "\n",
    "class MyClass:\n",
    "    \n",
    "    @rx.value_property\n",
    "    def my_value(self) -> int:\n",
    "        return 0\n",
    "    \n",
    "    @rx.computed_property\n",
    "    def my_computed(self) -> int:\n",
    "        return self.my_value * 2\n",
    "\n",
    "a = MyClass()"
   ]
  },
  {
   "cell_type": "code",
   "execution_count": 3,
   "metadata": {},
   "outputs": [
    {
     "data": {
      "text/plain": [
       "(0, 0)"
      ]
     },
     "execution_count": 3,
     "metadata": {},
     "output_type": "execute_result"
    }
   ],
   "source": [
    "a.my_value, a.my_computed"
   ]
  },
  {
   "cell_type": "code",
   "execution_count": 4,
   "metadata": {},
   "outputs": [
    {
     "data": {
      "text/plain": [
       "(1, 2)"
      ]
     },
     "execution_count": 4,
     "metadata": {},
     "output_type": "execute_result"
    }
   ],
   "source": [
    "a.my_value = 1\n",
    "a.my_value, a.my_computed"
   ]
  },
  {
   "cell_type": "code",
   "execution_count": 5,
   "metadata": {},
   "outputs": [
    {
     "name": "stdout",
     "output_type": "stream",
     "text": [
      "'my_value' initially set to 1\n",
      "'my_value' changed to 3\n"
     ]
    }
   ],
   "source": [
    "from asyncio import create_task, sleep, wait_for\n",
    "\n",
    "# Print when the value changes\n",
    "async def watch_for_value():\n",
    "    i = rx.watch(a, MyClass.my_value)\n",
    "    x = await anext(i)\n",
    "    print(f\"'my_value' initially set to {x}\")\n",
    "    x = await anext(i)\n",
    "    print(f\"'my_value' changed to {x}\")\n",
    "\n",
    "# Watch for the value to change\n",
    "watcher = create_task(watch_for_value())\n",
    "\n",
    "# Give the task a chance to detect the initial value\n",
    "await sleep(0)\n",
    "\n",
    "# Make a change\n",
    "a.my_value = 3\n",
    "\n",
    "await wait_for(watcher, timeout=0.1)\n",
    "pass"
   ]
  },
  {
   "cell_type": "code",
   "execution_count": null,
   "metadata": {},
   "outputs": [],
   "source": []
  }
 ],
 "metadata": {
  "kernelspec": {
   "display_name": ".venv",
   "language": "python",
   "name": "python3"
  },
  "language_info": {
   "codemirror_mode": {
    "name": "ipython",
    "version": 3
   },
   "file_extension": ".py",
   "mimetype": "text/x-python",
   "name": "python",
   "nbconvert_exporter": "python",
   "pygments_lexer": "ipython3",
   "version": "3.11.2"
  }
 },
 "nbformat": 4,
 "nbformat_minor": 2
}
